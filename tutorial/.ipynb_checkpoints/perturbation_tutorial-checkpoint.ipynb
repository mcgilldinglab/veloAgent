{
 "cells": [
  {
   "cell_type": "code",
   "execution_count": 1,
   "id": "d592ce1f-5cc5-4151-80aa-a77d43c2dd85",
   "metadata": {
    "scrolled": true
   },
   "outputs": [
    {
     "name": "stderr",
     "output_type": "stream",
     "text": [
      "Global seed set to 0\n"
     ]
    }
   ],
   "source": [
    "import veloagent\n",
    "import anndata\n",
    "import torch\n",
    "import matplotlib.pyplot as plt\n",
    "import numpy as np\n",
    "import scvelo as scv\n",
    "import scanpy as sc"
   ]
  },
  {
   "cell_type": "markdown",
   "id": "e4aff162-e6f2-4d28-9a74-146d3daf223c",
   "metadata": {},
   "source": [
    "## Load AnnData"
   ]
  },
  {
   "cell_type": "code",
   "execution_count": 2,
   "id": "8ca1d27c-a7a0-461b-8ca1-74ae94cb594f",
   "metadata": {},
   "outputs": [],
   "source": [
    "adata = anndata.read_h5ad('/Users/brentyoon/Documents/COMP402/code/dataset/breast_cancer.h5ad')\n",
    "genes_to_keep = ~adata.var_names.str.startswith(\"ENSG\")\n",
    "adata = adata[:, genes_to_keep]"
   ]
  },
  {
   "cell_type": "code",
   "execution_count": null,
   "id": "e9dad037-bd18-4d3c-97b8-f547e31adbad",
   "metadata": {},
   "outputs": [],
   "source": [
    "sc.pp.neighbors(adata, n_neighbors=30)\n",
    "\n",
    "max_neighbors = 29\n",
    "neighbor_indices = []\n",
    "\n",
    "mat = adata.obsp['connectivities'].todense()\n",
    "\n",
    "for row in mat:\n",
    "    neighbors = np.nonzero(row)[1]\n",
    "    padded = np.full(max_neighbors, -1, dtype=int)  # -1 indicates no neighbor\n",
    "    padded[:min(len(neighbors), max_neighbors)] = neighbors[:max_neighbors]\n",
    "    neighbor_indices.append(padded)\n",
    "\n",
    "neighbor_indices = np.array(neighbor_indices, dtype=int)\n",
    "adata.uns['neighbors']['indices'] = neighbor_indices"
   ]
  },
  {
   "cell_type": "markdown",
   "id": "94fbd4fc-690b-47dc-963c-a62f259ff58a",
   "metadata": {},
   "source": [
    "## Perturbation parameters"
   ]
  },
  {
   "cell_type": "code",
   "execution_count": null,
   "id": "3a83119e-532a-4129-b0df-8e7f75756978",
   "metadata": {},
   "outputs": [],
   "source": [
    "# for option 1\n",
    "cluster_edges_opt1 = [('cancer1','stromal cells'),('cancer2','stromal cells'),('cancer2','fibroblasts')]"
   ]
  },
  {
   "cell_type": "code",
   "execution_count": 3,
   "id": "55744edd-2579-46c8-9ca5-37b3d96b0045",
   "metadata": {},
   "outputs": [],
   "source": [
    "# for option 2\n",
    "cluster_edges_opt2 = ['cancer1','stromal cells','cancer2','fibroblasts']"
   ]
  },
  {
   "cell_type": "code",
   "execution_count": 4,
   "id": "fadea9fc-687c-4654-b574-c23cd07c68b8",
   "metadata": {},
   "outputs": [],
   "source": [
    "cluster_name = 'clusters'\n",
    "my_pert_param = 'alpha'"
   ]
  },
  {
   "cell_type": "markdown",
   "id": "a3c4e5ee-d660-4553-9f6e-f7ca139c9bea",
   "metadata": {},
   "source": [
    "## Velocity projection before perturbation"
   ]
  },
  {
   "cell_type": "code",
   "execution_count": null,
   "id": "2e94a576-9da9-42b0-8008-5073ebe7439e",
   "metadata": {},
   "outputs": [],
   "source": [
    "scv.tl.velocity_graph(adata, vkey='velocity')\n",
    "scv.pl.velocity_embedding_stream(adata,\n",
    "                                    legend_loc=\"right margin\", \n",
    "                                    vkey='velocity', \n",
    "                                    basis='umap', \n",
    "                                    color=[cluster_name],\n",
    "                                    dpi=150)"
   ]
  },
  {
   "cell_type": "markdown",
   "id": "fe825dfc-f94a-49a6-80e5-9e18198addfb",
   "metadata": {},
   "source": [
    "## Calculating gene score for perturbation"
   ]
  },
  {
   "cell_type": "code",
   "execution_count": 5,
   "id": "98fe7e25-3bac-4b25-ba1a-4861385abc5b",
   "metadata": {
    "scrolled": true
   },
   "outputs": [
    {
     "name": "stdout",
     "output_type": "stream",
     "text": [
      "Processing gene 0/1011\n"
     ]
    },
    {
     "ename": "KeyError",
     "evalue": "'velocity_u'",
     "output_type": "error",
     "traceback": [
      "\u001b[0;31m---------------------------------------------------------------------------\u001b[0m",
      "\u001b[0;31mKeyError\u001b[0m                                  Traceback (most recent call last)",
      "Cell \u001b[0;32mIn[5], line 1\u001b[0m\n\u001b[0;32m----> 1\u001b[0m scores \u001b[38;5;241m=\u001b[39m \u001b[43mveloagent\u001b[49m\u001b[38;5;241;43m.\u001b[39;49m\u001b[43mperturbation_score\u001b[49m\u001b[43m(\u001b[49m\u001b[43madata\u001b[49m\u001b[43m,\u001b[49m\u001b[43m \u001b[49m\u001b[43mcluster_name\u001b[49m\u001b[43m,\u001b[49m\u001b[43m \u001b[49m\u001b[43mcluster_edges_opt2\u001b[49m\u001b[43m,\u001b[49m\u001b[43m \u001b[49m\u001b[43mvel_key\u001b[49m\u001b[38;5;241;43m=\u001b[39;49m\u001b[38;5;124;43m'\u001b[39;49m\u001b[38;5;124;43mvelocity_u\u001b[39;49m\u001b[38;5;124;43m'\u001b[39;49m\u001b[43m,\u001b[49m\u001b[43m \u001b[49m\u001b[43mmetric_option\u001b[49m\u001b[38;5;241;43m=\u001b[39;49m\u001b[38;5;241;43m2\u001b[39;49m\u001b[43m,\u001b[49m\u001b[43m \u001b[49m\u001b[43mpert_param\u001b[49m\u001b[38;5;241;43m=\u001b[39;49m\u001b[43mmy_pert_param\u001b[49m\u001b[43m)\u001b[49m\n",
      "File \u001b[0;32m~/opt/anaconda3/envs/norm/lib/python3.8/site-packages/veloagent/perturbations.py:52\u001b[0m, in \u001b[0;36mperturbation_score\u001b[0;34m(data, cluster_name, cluster_edges, vel_key, metric_option, pert_param, dt)\u001b[0m\n\u001b[1;32m     49\u001b[0m     mean_score \u001b[38;5;241m=\u001b[39m np\u001b[38;5;241m.\u001b[39mmean(scores)\n\u001b[1;32m     51\u001b[0m \u001b[38;5;28;01melif\u001b[39;00m metric_option \u001b[38;5;241m==\u001b[39m \u001b[38;5;241m2\u001b[39m:\n\u001b[0;32m---> 52\u001b[0m     pert_vel \u001b[38;5;241m=\u001b[39m \u001b[43mdata\u001b[49m\u001b[38;5;241;43m.\u001b[39;49m\u001b[43mlayers\u001b[49m\u001b[43m[\u001b[49m\u001b[43mvel_key\u001b[49m\u001b[43m]\u001b[49m\u001b[38;5;241m.\u001b[39mcopy()\n\u001b[1;32m     54\u001b[0m     \u001b[38;5;28;01mif\u001b[39;00m pert_param \u001b[38;5;241m==\u001b[39m \u001b[38;5;124m\"\u001b[39m\u001b[38;5;124malpha\u001b[39m\u001b[38;5;124m\"\u001b[39m:\n\u001b[1;32m     55\u001b[0m         a \u001b[38;5;241m=\u001b[39m data\u001b[38;5;241m.\u001b[39mlayers[\u001b[38;5;124m'\u001b[39m\u001b[38;5;124malpha\u001b[39m\u001b[38;5;124m'\u001b[39m]\n",
      "File \u001b[0;32m~/opt/anaconda3/envs/norm/lib/python3.8/site-packages/anndata/_core/aligned_mapping.py:178\u001b[0m, in \u001b[0;36mAlignedActualMixin.__getitem__\u001b[0;34m(self, key)\u001b[0m\n\u001b[1;32m    177\u001b[0m \u001b[38;5;28;01mdef\u001b[39;00m \u001b[38;5;21m__getitem__\u001b[39m(\u001b[38;5;28mself\u001b[39m, key: \u001b[38;5;28mstr\u001b[39m) \u001b[38;5;241m-\u001b[39m\u001b[38;5;241m>\u001b[39m V:\n\u001b[0;32m--> 178\u001b[0m     \u001b[38;5;28;01mreturn\u001b[39;00m \u001b[38;5;28;43mself\u001b[39;49m\u001b[38;5;241;43m.\u001b[39;49m\u001b[43m_data\u001b[49m\u001b[43m[\u001b[49m\u001b[43mkey\u001b[49m\u001b[43m]\u001b[49m\n",
      "\u001b[0;31mKeyError\u001b[0m: 'velocity_u'"
     ]
    }
   ],
   "source": [
    "scores = veloagent.perturbation_score(adata, cluster_name, cluster_edges_opt2, vel_key='velocity', metric_option=2, pert_param=my_pert_param)"
   ]
  },
  {
   "cell_type": "code",
   "execution_count": null,
   "id": "a183f692-ca49-4856-9397-871317054dee",
   "metadata": {
    "scrolled": true
   },
   "outputs": [],
   "source": [
    "scores.sort_values(by='score')"
   ]
  },
  {
   "cell_type": "code",
   "execution_count": null,
   "id": "bbbc7227-3d52-42e0-8522-c49db35b15c3",
   "metadata": {},
   "outputs": [],
   "source": [
    "# plot histogram of scores\n",
    "scores.hist(bins=100, figsize=(10, 6))\n",
    "plt.xlabel('Score')\n",
    "plt.ylabel('Num Genes')\n",
    "plt.tight_layout()\n",
    "plt.show()"
   ]
  },
  {
   "cell_type": "code",
   "execution_count": null,
   "id": "078efaf1-dc49-4953-864c-abcc5d9cb1f5",
   "metadata": {},
   "outputs": [],
   "source": [
    "# if you want to save the results\n",
    "scores.to_csv('perturbations.csv')"
   ]
  },
  {
   "cell_type": "markdown",
   "id": "07ea53a5-abf2-4669-8b70-1b66ee07d259",
   "metadata": {},
   "source": [
    "## Perturbation"
   ]
  },
  {
   "cell_type": "code",
   "execution_count": null,
   "id": "22418fbc-3584-4acd-8296-ef10fe73fb03",
   "metadata": {},
   "outputs": [],
   "source": [
    "# Genes to perturb\n",
    "gene_list = ['Gm15564',\n",
    "'Slc1a2',\n",
    "'Mbp',\n",
    "'Cdk8',\n",
    "'Camk1d',\n",
    "'Plp1',\n",
    "'Kcnma1',\n",
    "'Meg3',\n",
    "'Mobp',\n",
    "'Pcdh9',\n",
    "'Zbtb20',\n",
    "'Ptprd',\n",
    "'Rora',\n",
    "'Lsamp',\n",
    "'Qk',\n",
    "'Ppp3ca',       \n",
    "'Nrxn1',\n",
    "'Syt1',\n",
    "'Celf2',\n",
    "'Pde10a',\n",
    "'Trpm3',\n",
    "'Grin2a',\n",
    "'Hexb',\n",
    "'Fgfr2']"
   ]
  }
 ],
 "metadata": {
  "kernelspec": {
   "display_name": "Python 3 (ipykernel)",
   "language": "python",
   "name": "python3"
  },
  "language_info": {
   "codemirror_mode": {
    "name": "ipython",
    "version": 3
   },
   "file_extension": ".py",
   "mimetype": "text/x-python",
   "name": "python",
   "nbconvert_exporter": "python",
   "pygments_lexer": "ipython3",
   "version": "3.8.19"
  }
 },
 "nbformat": 4,
 "nbformat_minor": 5
}
