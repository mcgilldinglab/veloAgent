{
 "cells": [
  {
   "cell_type": "code",
   "execution_count": 1,
   "id": "d592ce1f-5cc5-4151-80aa-a77d43c2dd85",
   "metadata": {
    "scrolled": true
   },
   "outputs": [
    {
     "name": "stderr",
     "output_type": "stream",
     "text": [
      "Global seed set to 0\n"
     ]
    }
   ],
   "source": [
    "import veloagent\n",
    "import anndata\n",
    "import torch\n",
    "import scvelo as scv\n",
    "import scanpy as sc"
   ]
  },
  {
   "cell_type": "markdown",
   "id": "e4aff162-e6f2-4d28-9a74-146d3daf223c",
   "metadata": {},
   "source": [
    "## Load AnnData"
   ]
  },
  {
   "cell_type": "code",
   "execution_count": 2,
   "id": "8ca1d27c-a7a0-461b-8ca1-74ae94cb594f",
   "metadata": {},
   "outputs": [],
   "source": [
    "adata = anndata.read_h5ad('/Users/brentyoon/Documents/COMP402/code/data/va_stereo+vae.h5ad')"
   ]
  },
  {
   "cell_type": "markdown",
   "id": "94fbd4fc-690b-47dc-963c-a62f259ff58a",
   "metadata": {},
   "source": [
    "## Preprocessing dataset"
   ]
  },
  {
   "cell_type": "code",
   "execution_count": null,
   "id": "e8407476-7b81-422d-a405-22d1eee515d1",
   "metadata": {},
   "outputs": [],
   "source": [
    "veloagent.preprocess(adata)"
   ]
  },
  {
   "cell_type": "markdown",
   "id": "a3c4e5ee-d660-4553-9f6e-f7ca139c9bea",
   "metadata": {},
   "source": [
    "## VAE Embedding"
   ]
  },
  {
   "cell_type": "code",
   "execution_count": null,
   "id": "141c1785-61d4-481e-8bc7-02edd6a5d020",
   "metadata": {},
   "outputs": [],
   "source": [
    "vae, optimizer, loss_fn = veloagent.get_vae(adata, z_dim=3)\n",
    "device = torch.device(\"cuda\" if torch.cuda.is_available() else \"cpu\")\n",
    "vae.to(device)\n",
    "global_nb_indices = adata.uns['neighbors']['indices']"
   ]
  },
  {
   "cell_type": "code",
   "execution_count": null,
   "id": "c29be55c-925b-47c5-a694-e4bbacae5743",
   "metadata": {},
   "outputs": [],
   "source": [
    "best_model = veloagent.train_vae(adata, vae, optimizer, loss_fn, global_nb_indices, patience=25, num_epochs=500, batch=0.25)"
   ]
  },
  {
   "cell_type": "code",
   "execution_count": null,
   "id": "9e6224a4-4cb2-477c-afac-aee4e60bc539",
   "metadata": {
    "scrolled": true
   },
   "outputs": [],
   "source": [
    "vae.load_state_dict(best_model)\n",
    "veloagent.get_embedding(adata, vae, device)"
   ]
  },
  {
   "cell_type": "code",
   "execution_count": 3,
   "id": "2b886ed6-d693-4022-9daa-55bb888ed002",
   "metadata": {},
   "outputs": [],
   "source": [
    "paths = veloagent.load_protein_paths(species=\"mouse\", base=\"/Users/brentyoon/Documents/COMP402/code/veloagent/data/conn_mat\")\n",
    "protein_names_path = paths[0]\n",
    "protein_alias_path = paths[1]\n",
    "gene_conn_path = paths[2]"
   ]
  },
  {
   "cell_type": "code",
   "execution_count": 4,
   "id": "ed6d939c-34f4-4c27-9c11-af7405df5cc2",
   "metadata": {},
   "outputs": [],
   "source": [
    "conn_mat = veloagent.create_con_mat(adata, adata.n_vars, protein_names_path, protein_alias_path, gene_conn_path, varname='index')"
   ]
  },
  {
   "cell_type": "code",
   "execution_count": 5,
   "id": "3886ce41-c267-45bd-853a-e783d09a43f6",
   "metadata": {},
   "outputs": [
    {
     "data": {
      "text/plain": [
       "GeneNet(\n",
       "  (dropout): Dropout(p=0.2, inplace=False)\n",
       "  (lyr1): Linear(in_features=7, out_features=536, bias=True)\n",
       "  (bn1): BatchNorm1d(536, eps=1e-05, momentum=0.1, affine=True, track_running_stats=True)\n",
       "  (lyr2): Linear(in_features=536, out_features=1072, bias=True)\n",
       "  (bn2): BatchNorm1d(1072, eps=1e-05, momentum=0.1, affine=True, track_running_stats=True)\n",
       "  (lyr3): CustomizedLinear(input_features=1072, output_features=1072, bias=False)\n",
       "  (bn3): BatchNorm1d(1072, eps=1e-05, momentum=0.1, affine=True, track_running_stats=True)\n",
       "  (lyr4): Linear(in_features=1072, out_features=2144, bias=True)\n",
       "  (bn4): BatchNorm1d(2144, eps=1e-05, momentum=0.1, affine=True, track_running_stats=True)\n",
       "  (lyr5): Linear(in_features=2144, out_features=3216, bias=True)\n",
       ")"
      ]
     },
     "execution_count": 5,
     "metadata": {},
     "output_type": "execute_result"
    }
   ],
   "source": [
    "genenet = veloagent.GeneNet(in_dim=adata.obsm['cell_embed'][0].shape[0], gene_dim=adata.n_vars, conn=conn_mat)\n",
    "optimizer = torch.optim.Adam(genenet.parameters(), lr=0.0001, weight_decay=0.00001)\n",
    "device = torch.device(\"cuda\" if torch.cuda.is_available() else \"cpu\")\n",
    "genenet.to(device)"
   ]
  },
  {
   "cell_type": "code",
   "execution_count": null,
   "id": "4fba1273-ccdd-488d-9576-203e77612df9",
   "metadata": {},
   "outputs": [
    {
     "name": "stderr",
     "output_type": "stream",
     "text": [
      " 10%|██▊                         | 10/100 [00:37<05:31,  3.68s/it, loss=1.28e+5]"
     ]
    }
   ],
   "source": [
    "veloagent.train_gg(num_epochs=100, data=adata, embed_basis='cell_embed', genenet=genenet, device=device, optimizer=optimizer, patience=10, num_nbrs=30, dt=0.3, batch=0.25)"
   ]
  },
  {
   "cell_type": "code",
   "execution_count": null,
   "id": "a5a1a03a-5dd8-4f2d-8254-63693cb49223",
   "metadata": {
    "scrolled": true
   },
   "outputs": [],
   "source": [
    "veloagent.train_nbr(num_epochs=25, data=adata, embed_basis='cell_embed', genenet=genenet, device=device, optimizer=optimizer, num_nbrs=15, dt=0.3, batch=0.25)"
   ]
  },
  {
   "cell_type": "code",
   "execution_count": null,
   "id": "9ad4a3ec-d25b-45fb-a947-b726d052ca52",
   "metadata": {},
   "outputs": [],
   "source": [
    "bdata = anndata.read_h5ad('/Users/brentyoon/Documents/COMP402/code/data/va_stereo+vae.h5ad')"
   ]
  },
  {
   "cell_type": "code",
   "execution_count": null,
   "id": "0c1c2074-39e8-450e-9f64-7c45484f0713",
   "metadata": {},
   "outputs": [],
   "source": [
    "adata.obsm[\"X_umap\"] = bdata.obsm[\"X_umap\"]"
   ]
  },
  {
   "cell_type": "code",
   "execution_count": null,
   "id": "6000f7ee-fb33-4796-abdf-a0c14ae1885c",
   "metadata": {
    "scrolled": true
   },
   "outputs": [],
   "source": [
    "scv.tl.velocity_graph(adata, vkey='velocity')\n",
    "scv.pl.velocity_embedding_stream(adata,\n",
    "                                legend_loc=\"right margin\", \n",
    "                                vkey='velocity', \n",
    "                                basis='umap', \n",
    "                                color=['scc_anno'],\n",
    "                                dpi=150)"
   ]
  },
  {
   "cell_type": "code",
   "execution_count": null,
   "id": "87a4dbba-9482-4254-a454-dc29494a461e",
   "metadata": {},
   "outputs": [],
   "source": [
    "adata.obs['x_loc'] = adata.obsm['spatial'].T[0]/5\n",
    "adata.obs['y_loc'] = adata.obsm['spatial'].T[1]/5\n",
    "adata.obs['x_loc'] = adata.obs.x_loc.astype(int)\n",
    "adata.obs['y_loc'] = adata.obs.y_loc.astype(int)\n",
    "adata.obs['x_loc'] = adata.obs['x_loc'] - min(adata.obs['x_loc'])\n",
    "adata.obs['y_loc'] = adata.obs['y_loc'] - min(adata.obs['y_loc'])"
   ]
  },
  {
   "cell_type": "code",
   "execution_count": null,
   "id": "b2f53910-1718-45df-b9fe-dc9c671e2ad2",
   "metadata": {
    "scrolled": true
   },
   "outputs": [],
   "source": [
    "abm = veloagent.CellModel(adata, steps=100, freedom=2, nbr_radius=40, sig_ratio=0.7)"
   ]
  },
  {
   "cell_type": "code",
   "execution_count": null,
   "id": "144c68e5-5212-4455-9bc5-82d4ba842093",
   "metadata": {},
   "outputs": [],
   "source": [
    "abm.step()"
   ]
  },
  {
   "cell_type": "code",
   "execution_count": null,
   "id": "20482bd7-55b9-4c17-bf59-6a930b458f06",
   "metadata": {},
   "outputs": [],
   "source": [
    "scv.tl.velocity_graph(adata, vkey='velocity')\n",
    "scv.pl.velocity_embedding_stream(adata,\n",
    "                                legend_loc=\"right margin\", \n",
    "                                vkey='velocity', \n",
    "                                basis='spatial', \n",
    "                                color=['scc_anno'],\n",
    "                                palette=\"tab20\",\n",
    "                                dpi=150)"
   ]
  },
  {
   "cell_type": "code",
   "execution_count": null,
   "id": "d548c4ef-4306-475f-8585-0cdde67be2fb",
   "metadata": {},
   "outputs": [],
   "source": []
  }
 ],
 "metadata": {
  "kernelspec": {
   "display_name": "Python 3 (ipykernel)",
   "language": "python",
   "name": "python3"
  },
  "language_info": {
   "codemirror_mode": {
    "name": "ipython",
    "version": 3
   },
   "file_extension": ".py",
   "mimetype": "text/x-python",
   "name": "python",
   "nbconvert_exporter": "python",
   "pygments_lexer": "ipython3",
   "version": "3.8.19"
  }
 },
 "nbformat": 4,
 "nbformat_minor": 5
}
